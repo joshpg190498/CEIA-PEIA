{
 "cells": [
  {
   "cell_type": "markdown",
   "metadata": {},
   "source": [
    "### PREGUNTA 2"
   ]
  },
  {
   "cell_type": "markdown",
   "metadata": {},
   "source": [
    "Hallar sumatoria"
   ]
  },
  {
   "cell_type": "code",
   "execution_count": 7,
   "metadata": {},
   "outputs": [
    {
     "data": {
      "text/html": [
       "<div>\n",
       "<style scoped>\n",
       "    .dataframe tbody tr th:only-of-type {\n",
       "        vertical-align: middle;\n",
       "    }\n",
       "\n",
       "    .dataframe tbody tr th {\n",
       "        vertical-align: top;\n",
       "    }\n",
       "\n",
       "    .dataframe thead th {\n",
       "        text-align: right;\n",
       "    }\n",
       "</style>\n",
       "<table border=\"1\" class=\"dataframe\">\n",
       "  <thead>\n",
       "    <tr style=\"text-align: right;\">\n",
       "      <th></th>\n",
       "      <th>X</th>\n",
       "      <th>Y</th>\n",
       "      <th>X^2</th>\n",
       "      <th>X^3</th>\n",
       "      <th>X^4</th>\n",
       "      <th>X*Y</th>\n",
       "      <th>X^2*Y</th>\n",
       "    </tr>\n",
       "  </thead>\n",
       "  <tbody>\n",
       "    <tr>\n",
       "      <th>0</th>\n",
       "      <td>4</td>\n",
       "      <td>8</td>\n",
       "      <td>16</td>\n",
       "      <td>64</td>\n",
       "      <td>256</td>\n",
       "      <td>32</td>\n",
       "      <td>128</td>\n",
       "    </tr>\n",
       "    <tr>\n",
       "      <th>1</th>\n",
       "      <td>6</td>\n",
       "      <td>39</td>\n",
       "      <td>36</td>\n",
       "      <td>216</td>\n",
       "      <td>1296</td>\n",
       "      <td>234</td>\n",
       "      <td>1404</td>\n",
       "    </tr>\n",
       "    <tr>\n",
       "      <th>2</th>\n",
       "      <td>14</td>\n",
       "      <td>143</td>\n",
       "      <td>196</td>\n",
       "      <td>2744</td>\n",
       "      <td>38416</td>\n",
       "      <td>2002</td>\n",
       "      <td>28028</td>\n",
       "    </tr>\n",
       "    <tr>\n",
       "      <th>3</th>\n",
       "      <td>19</td>\n",
       "      <td>360</td>\n",
       "      <td>361</td>\n",
       "      <td>6859</td>\n",
       "      <td>130321</td>\n",
       "      <td>6840</td>\n",
       "      <td>129960</td>\n",
       "    </tr>\n",
       "    <tr>\n",
       "      <th>4</th>\n",
       "      <td>24</td>\n",
       "      <td>439</td>\n",
       "      <td>576</td>\n",
       "      <td>13824</td>\n",
       "      <td>331776</td>\n",
       "      <td>10536</td>\n",
       "      <td>252864</td>\n",
       "    </tr>\n",
       "  </tbody>\n",
       "</table>\n",
       "</div>"
      ],
      "text/plain": [
       "    X    Y  X^2    X^3     X^4    X*Y   X^2*Y\n",
       "0   4    8   16     64     256     32     128\n",
       "1   6   39   36    216    1296    234    1404\n",
       "2  14  143  196   2744   38416   2002   28028\n",
       "3  19  360  361   6859  130321   6840  129960\n",
       "4  24  439  576  13824  331776  10536  252864"
      ]
     },
     "execution_count": 7,
     "metadata": {},
     "output_type": "execute_result"
    }
   ],
   "source": [
    "import pandas as pd\n",
    "\n",
    "x_values = [4, 6, 14, 19, 24]\n",
    "y_values = [8, 39, 143, 360, 439]\n",
    "\n",
    "x2 = [x**2 for x in x_values]      \n",
    "x3 = [x**3 for x in x_values]      \n",
    "x4 = [x**4 for x in x_values]      \n",
    "xy = [x * y for x, y in zip(x_values, y_values)]     \n",
    "x2y = [x**2 * y for x, y in zip(x_values, y_values)]  \n",
    "\n",
    "data = {\n",
    "    \"X\": x_values,\n",
    "    \"Y\": y_values,\n",
    "    \"X^2\": x2,\n",
    "    \"X^3\": x3,\n",
    "    \"X^4\": x4,\n",
    "    \"X*Y\": xy,\n",
    "    \"X^2*Y\": x2y,\n",
    "}\n",
    "df = pd.DataFrame(data)\n",
    "\n",
    "df"
   ]
  },
  {
   "cell_type": "code",
   "execution_count": 9,
   "metadata": {},
   "outputs": [
    {
     "name": "stdout",
     "output_type": "stream",
     "text": [
      "sum_X:  67\n",
      "sum_Y:  989\n",
      "sum_X2:  1185\n",
      "sum_X3:  23707\n",
      "sum_X4:  502065\n",
      "sum_XY:  19644\n",
      "sum_X2Y:  412384\n"
     ]
    }
   ],
   "source": [
    "sum_X = sum(x_values)\n",
    "sum_Y = sum(y_values)\n",
    "sum_X2 = sum(x2)\n",
    "sum_X3 = sum(x3)\n",
    "sum_X4 = sum(x4)\n",
    "sum_XY = sum(xy)\n",
    "sum_X2Y = sum(x2y)\n",
    "\n",
    "print(\"sum_X: \", sum_X)\n",
    "print(\"sum_Y: \", sum_Y)\n",
    "print(\"sum_X2: \", sum_X2)\n",
    "print(\"sum_X3: \", sum_X3)\n",
    "print(\"sum_X4: \", sum_X4)\n",
    "print(\"sum_XY: \", sum_XY)\n",
    "print(\"sum_X2Y: \", sum_X2Y)"
   ]
  },
  {
   "cell_type": "code",
   "execution_count": null,
   "metadata": {},
   "outputs": [],
   "source": [
    "from sympy import symbols, Eq, solve\n",
    "\n",
    "a, b, c = symbols('a b c')\n",
    "\n",
    "n = 5\n",
    "\n",
    "eq1 = Eq(n * a + b * sum_X + c * sum_X2, sum_Y)\n",
    "eq2 = Eq(a * sum_X + b * sum_X2 + c * sum_X3, sum_XY)\n",
    "eq3 = Eq(a * sum_X2 + b * sum_X3 + c * sum_X4, sum_X2Y)\n",
    "\n",
    "solution = solve((eq1, eq2, eq3), (a, b, c))\n",
    "solution\n"
   ]
  }
 ],
 "metadata": {
  "kernelspec": {
   "display_name": "Python 3",
   "language": "python",
   "name": "python3"
  },
  "language_info": {
   "codemirror_mode": {
    "name": "ipython",
    "version": 3
   },
   "file_extension": ".py",
   "mimetype": "text/x-python",
   "name": "python",
   "nbconvert_exporter": "python",
   "pygments_lexer": "ipython3",
   "version": "3.12.3"
  }
 },
 "nbformat": 4,
 "nbformat_minor": 2
}
